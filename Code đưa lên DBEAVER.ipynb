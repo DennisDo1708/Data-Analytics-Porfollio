{
 "cells": [
  {
   "cell_type": "code",
   "execution_count": 2,
   "metadata": {},
   "outputs": [
    {
     "name": "stdout",
     "output_type": "stream",
     "text": [
      "                   STT   NGÀY TẠO MÃ  ĐƠN HÀNG  PLATFORM  \\\n",
      "0    THÁNG 9 + 10/2024        NaT          NaN       NaN   \n",
      "1                    1 2024-09-21          NaN  Facebook   \n",
      "2                    2 2024-09-26          NaN  Facebook   \n",
      "3                    3 2024-10-02          NaN  Facebook   \n",
      "4                    4 2024-10-02          NaN  Facebook   \n",
      "..                 ...        ...          ...       ...   \n",
      "747                468        NaT          NaN       NaN   \n",
      "748                469        NaT          NaN       NaN   \n",
      "749                470        NaT          NaN       NaN   \n",
      "750                471        NaT          NaN       NaN   \n",
      "751                472        NaT          NaN       NaN   \n",
      "\n",
      "                   TÊN KHÁCH HÀNG          SĐT NGÀY SINH NHẬT ĐỊA CHỈ   \\\n",
      "0                             NaN          NaN            NaN      NaN   \n",
      "1                  Lương Thế Văn   702660071.0            NaN      NaN   \n",
      "2                  Lương Thế Văn   702660071.0            NaN      NaN   \n",
      "3                  Lương Thế Văn   702660071.0            NaN      NaN   \n",
      "4    Quỳnh Mi (Minh Tường mua hộ)  902894958.0            NaN      NaN   \n",
      "..                            ...          ...            ...      ...   \n",
      "747                           NaN          NaN            NaN      NaN   \n",
      "748                           NaN          NaN            NaN      NaN   \n",
      "749                           NaN          NaN            NaN      NaN   \n",
      "750                           NaN          NaN            NaN      NaN   \n",
      "751                           NaN          NaN            NaN      NaN   \n",
      "\n",
      "    THÀNH PHỐ  NGƯỜI TẠO ĐƠN  SKU TÊN SẢN PHẨM SIZE  SỐ LƯỢNG  GIÁ TRỊ ĐƠN   \\\n",
      "0          NaN           NaN  NaN          NaN  NaN       NaN           NaN   \n",
      "1          NaN        Khương  NaN          NaN  NaN       NaN      390000.0   \n",
      "2          NaN        Khương  NaN          NaN  NaN       NaN      416000.0   \n",
      "3          NaN        Khương  NaN          NaN  NaN       NaN      350000.0   \n",
      "4          NaN        Khương  NaN          NaN  NaN       NaN      390000.0   \n",
      "..         ...           ...  ...          ...  ...       ...           ...   \n",
      "747        NaN           NaN  NaN          NaN  NaN       NaN           NaN   \n",
      "748        NaN           NaN  NaN          NaN  NaN       NaN           NaN   \n",
      "749        NaN           NaN  NaN          NaN  NaN       NaN           NaN   \n",
      "750        NaN           NaN  NaN          NaN  NaN       NaN           NaN   \n",
      "751        NaN           NaN  NaN          NaN  NaN       NaN           NaN   \n",
      "\n",
      "    HÌNH THỨC THANH TOÁN TÌNH TRẠNG THANH TOÁN  GHI CHÚ  \n",
      "0                    NaN                    NaN     NaN  \n",
      "1           chuyển khoản          ĐÃ THANH TOÁN     NaN  \n",
      "2           chuyển khoản          ĐÃ THANH TOÁN     NaN  \n",
      "3           chuyển khoản          ĐÃ THANH TOÁN     NaN  \n",
      "4           chuyển khoản          ĐÃ THANH TOÁN     NaN  \n",
      "..                   ...                    ...     ...  \n",
      "747                  NaN                    NaN     NaN  \n",
      "748                  NaN                    NaN     NaN  \n",
      "749                  NaN                    NaN     NaN  \n",
      "750                  NaN                    NaN     NaN  \n",
      "751                  NaN                    NaN     NaN  \n",
      "\n",
      "[752 rows x 18 columns]\n"
     ]
    }
   ],
   "source": [
    "import pandas as pd\n",
    "\n",
    "df=pd.read_excel(\"/home/trongthuc1708/REALMOF/REALM of - Sale tháng 2.xlsx\")\n",
    "\n",
    "print(df)\n"
   ]
  },
  {
   "cell_type": "code",
   "execution_count": null,
   "metadata": {},
   "outputs": [],
   "source": [
    "from sqlalchemy import create_engine\n",
    "\n",
    "# Thông tin kết nối đến PostgreSQL\n",
    "db_user = \"your_username\"\n",
    "db_password = \"your_password\"\n",
    "db_host = \"localhost\"  # hoặc IP server\n",
    "db_port = \"5432\"\n",
    "db_name = \"your_database\"\n",
    "\n",
    "# Tạo engine kết nối\n",
    "engine = create_engine(f\"postgresql+psycopg2://{db_user}:{db_password}@{db_host}:{db_port}/{db_name}\")\n",
    "\n",
    "# Kiểm tra kết nối\n",
    "try:\n",
    "    with engine.connect() as conn:\n",
    "        print(\"Kết nối cơ sở dữ liệu thành công!\")\n",
    "except Exception as e:\n",
    "    print(f\"Lỗi kết nối: {e}\")\n"
   ]
  }
 ],
 "metadata": {
  "kernelspec": {
   "display_name": "trongthuc",
   "language": "python",
   "name": "python3"
  },
  "language_info": {
   "codemirror_mode": {
    "name": "ipython",
    "version": 3
   },
   "file_extension": ".py",
   "mimetype": "text/x-python",
   "name": "python",
   "nbconvert_exporter": "python",
   "pygments_lexer": "ipython3",
   "version": "3.10.16"
  }
 },
 "nbformat": 4,
 "nbformat_minor": 2
}
