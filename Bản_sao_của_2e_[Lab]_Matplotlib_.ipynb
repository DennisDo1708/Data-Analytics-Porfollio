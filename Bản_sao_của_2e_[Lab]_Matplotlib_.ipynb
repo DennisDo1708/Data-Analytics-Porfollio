{
  "cells": [
    {
      "cell_type": "markdown",
      "metadata": {
        "id": "view-in-github",
        "colab_type": "text"
      },
      "source": [
        "<a href=\"https://colab.research.google.com/github/DennisDo1708/Data-Analytics-Porfollio/blob/main/B%E1%BA%A3n_sao_c%E1%BB%A7a_2e_%5BLab%5D_Matplotlib_.ipynb\" target=\"_parent\"><img src=\"https://colab.research.google.com/assets/colab-badge.svg\" alt=\"Open In Colab\"/></a>"
      ]
    },
    {
      "cell_type": "markdown",
      "id": "450c4b2e",
      "metadata": {
        "id": "450c4b2e"
      },
      "source": [
        "![](https://i.imgur.com/0AUxkXt.png)"
      ]
    },
    {
      "cell_type": "markdown",
      "id": "5M_mZ02QANIo",
      "metadata": {
        "id": "5M_mZ02QANIo"
      },
      "source": [
        "For this lab session, we will explore the dataset of Sale Report from a Bicycle Store.\n",
        "\n",
        "<img src=\"https://user-images.githubusercontent.com/7065401/58563302-42466a80-8201-11e9-9948-b3e9f88a5662.jpg\"\n",
        "    style=\"width:400px; float: right; margin: 0 40px 40px 40px;\"></img>\n",
        "    \n",
        "[Follow this data in a Google Spreadsheet](https://docs.google.com/spreadsheets/d/1NOe_UrPx6ULF2C5MvHmZ9ODuw8t9M77Q1Y64gP-7JHA/edit?usp=sharing)"
      ]
    },
    {
      "cell_type": "markdown",
      "id": "4461a929",
      "metadata": {
        "id": "4461a929"
      },
      "source": [
        "## Remember to save a copy in drive before doing this exercise!\n",
        "\n",
        "![](https://i.imgur.com/rPnCNKw.png)"
      ]
    },
    {
      "cell_type": "code",
      "execution_count": null,
      "id": "99edf931",
      "metadata": {
        "colab": {
          "base_uri": "https://localhost:8080/",
          "height": 399
        },
        "id": "99edf931",
        "outputId": "1e5fccd7-7680-45d9-bd68-08113ae35757"
      },
      "outputs": [
        {
          "data": {
            "text/html": [
              "<div>\n",
              "<style scoped>\n",
              "    .dataframe tbody tr th:only-of-type {\n",
              "        vertical-align: middle;\n",
              "    }\n",
              "\n",
              "    .dataframe tbody tr th {\n",
              "        vertical-align: top;\n",
              "    }\n",
              "\n",
              "    .dataframe thead th {\n",
              "        text-align: right;\n",
              "    }\n",
              "</style>\n",
              "<table border=\"1\" class=\"dataframe\">\n",
              "  <thead>\n",
              "    <tr style=\"text-align: right;\">\n",
              "      <th></th>\n",
              "      <th>Date</th>\n",
              "      <th>Day</th>\n",
              "      <th>Month</th>\n",
              "      <th>Year</th>\n",
              "      <th>Customer_Age</th>\n",
              "      <th>Age_Group</th>\n",
              "      <th>Customer_Gender</th>\n",
              "      <th>Country</th>\n",
              "      <th>State</th>\n",
              "      <th>Product_Category</th>\n",
              "      <th>Sub_Category</th>\n",
              "      <th>Product</th>\n",
              "      <th>Order_Quantity</th>\n",
              "      <th>Unit_Cost</th>\n",
              "      <th>Unit_Price</th>\n",
              "      <th>Profit</th>\n",
              "      <th>Cost</th>\n",
              "      <th>Revenue</th>\n",
              "    </tr>\n",
              "  </thead>\n",
              "  <tbody>\n",
              "    <tr>\n",
              "      <th>0</th>\n",
              "      <td>2013-11-26</td>\n",
              "      <td>26</td>\n",
              "      <td>November</td>\n",
              "      <td>2013</td>\n",
              "      <td>19</td>\n",
              "      <td>Youth (&lt;25)</td>\n",
              "      <td>M</td>\n",
              "      <td>Canada</td>\n",
              "      <td>British Columbia</td>\n",
              "      <td>Accessories</td>\n",
              "      <td>Bike Racks</td>\n",
              "      <td>Hitch Rack - 4-Bike</td>\n",
              "      <td>8</td>\n",
              "      <td>45</td>\n",
              "      <td>120</td>\n",
              "      <td>590</td>\n",
              "      <td>360</td>\n",
              "      <td>950</td>\n",
              "    </tr>\n",
              "    <tr>\n",
              "      <th>1</th>\n",
              "      <td>2015-11-26</td>\n",
              "      <td>26</td>\n",
              "      <td>November</td>\n",
              "      <td>2015</td>\n",
              "      <td>19</td>\n",
              "      <td>Youth (&lt;25)</td>\n",
              "      <td>M</td>\n",
              "      <td>Canada</td>\n",
              "      <td>British Columbia</td>\n",
              "      <td>Accessories</td>\n",
              "      <td>Bike Racks</td>\n",
              "      <td>Hitch Rack - 4-Bike</td>\n",
              "      <td>8</td>\n",
              "      <td>45</td>\n",
              "      <td>120</td>\n",
              "      <td>590</td>\n",
              "      <td>360</td>\n",
              "      <td>950</td>\n",
              "    </tr>\n",
              "    <tr>\n",
              "      <th>2</th>\n",
              "      <td>2014-03-23</td>\n",
              "      <td>23</td>\n",
              "      <td>March</td>\n",
              "      <td>2014</td>\n",
              "      <td>49</td>\n",
              "      <td>Adults (35-64)</td>\n",
              "      <td>M</td>\n",
              "      <td>Australia</td>\n",
              "      <td>New South Wales</td>\n",
              "      <td>Accessories</td>\n",
              "      <td>Bike Racks</td>\n",
              "      <td>Hitch Rack - 4-Bike</td>\n",
              "      <td>23</td>\n",
              "      <td>45</td>\n",
              "      <td>120</td>\n",
              "      <td>1366</td>\n",
              "      <td>1035</td>\n",
              "      <td>2401</td>\n",
              "    </tr>\n",
              "    <tr>\n",
              "      <th>3</th>\n",
              "      <td>2016-03-23</td>\n",
              "      <td>23</td>\n",
              "      <td>March</td>\n",
              "      <td>2016</td>\n",
              "      <td>49</td>\n",
              "      <td>Adults (35-64)</td>\n",
              "      <td>M</td>\n",
              "      <td>Australia</td>\n",
              "      <td>New South Wales</td>\n",
              "      <td>Accessories</td>\n",
              "      <td>Bike Racks</td>\n",
              "      <td>Hitch Rack - 4-Bike</td>\n",
              "      <td>20</td>\n",
              "      <td>45</td>\n",
              "      <td>120</td>\n",
              "      <td>1188</td>\n",
              "      <td>900</td>\n",
              "      <td>2088</td>\n",
              "    </tr>\n",
              "    <tr>\n",
              "      <th>4</th>\n",
              "      <td>2014-05-15</td>\n",
              "      <td>15</td>\n",
              "      <td>May</td>\n",
              "      <td>2014</td>\n",
              "      <td>47</td>\n",
              "      <td>Adults (35-64)</td>\n",
              "      <td>F</td>\n",
              "      <td>Australia</td>\n",
              "      <td>New South Wales</td>\n",
              "      <td>Accessories</td>\n",
              "      <td>Bike Racks</td>\n",
              "      <td>Hitch Rack - 4-Bike</td>\n",
              "      <td>4</td>\n",
              "      <td>45</td>\n",
              "      <td>120</td>\n",
              "      <td>238</td>\n",
              "      <td>180</td>\n",
              "      <td>418</td>\n",
              "    </tr>\n",
              "  </tbody>\n",
              "</table>\n",
              "</div>"
            ],
            "text/plain": [
              "         Date  Day     Month  Year  Customer_Age       Age_Group  \\\n",
              "0  2013-11-26   26  November  2013            19     Youth (<25)   \n",
              "1  2015-11-26   26  November  2015            19     Youth (<25)   \n",
              "2  2014-03-23   23     March  2014            49  Adults (35-64)   \n",
              "3  2016-03-23   23     March  2016            49  Adults (35-64)   \n",
              "4  2014-05-15   15       May  2014            47  Adults (35-64)   \n",
              "\n",
              "  Customer_Gender    Country             State Product_Category Sub_Category  \\\n",
              "0               M     Canada  British Columbia      Accessories   Bike Racks   \n",
              "1               M     Canada  British Columbia      Accessories   Bike Racks   \n",
              "2               M  Australia   New South Wales      Accessories   Bike Racks   \n",
              "3               M  Australia   New South Wales      Accessories   Bike Racks   \n",
              "4               F  Australia   New South Wales      Accessories   Bike Racks   \n",
              "\n",
              "               Product  Order_Quantity  Unit_Cost  Unit_Price  Profit  Cost  \\\n",
              "0  Hitch Rack - 4-Bike               8         45         120     590   360   \n",
              "1  Hitch Rack - 4-Bike               8         45         120     590   360   \n",
              "2  Hitch Rack - 4-Bike              23         45         120    1366  1035   \n",
              "3  Hitch Rack - 4-Bike              20         45         120    1188   900   \n",
              "4  Hitch Rack - 4-Bike               4         45         120     238   180   \n",
              "\n",
              "   Revenue  \n",
              "0      950  \n",
              "1      950  \n",
              "2     2401  \n",
              "3     2088  \n",
              "4      418  "
            ]
          },
          "execution_count": 1,
          "metadata": {},
          "output_type": "execute_result"
        }
      ],
      "source": [
        "# @title Import data and libraries\n",
        "import pandas as pd\n",
        "import matplotlib.pyplot as plt\n",
        "\n",
        "import seaborn as sns\n",
        "\n",
        "df = pd.read_csv(\"https://www.dropbox.com/s/bp5jtmmqbzym0ta/sales_data.csv?dl=1\")\n",
        "df.head()"
      ]
    },
    {
      "cell_type": "code",
      "execution_count": null,
      "id": "Rp-p9LU2l1Ix",
      "metadata": {
        "colab": {
          "base_uri": "https://localhost:8080/",
          "height": 472
        },
        "id": "Rp-p9LU2l1Ix",
        "outputId": "eff80b86-d8db-46fc-aff6-f50fff6c37d2"
      },
      "outputs": [
        {
          "data": {
            "image/png": "[encoded data removed]",
            "text/plain": [
              "<Figure size 640x480 with 2 Axes>"
            ]
          },
          "metadata": {},
          "output_type": "display_data"
        }
      ],
      "source": [
        "import matplotlib.pyplot as plt\n",
        "import seaborn as sns\n",
        "\n",
        "# Assuming 'df' is your DataFrame containing 'Year', 'Cost', and 'Profit' columns\n",
        "\n",
        "# Grouping data by 'Year' and calculating the sum of 'Cost' and 'Profit'\n",
        "ratio = df.groupby('Year')[['Cost', 'Profit']].sum().reset_index()\n",
        "\n",
        "# Calculating the ratio of Profit to Cost\n",
        "ratio['Cost_Profit'] = ratio['Profit'] / ratio['Cost']\n",
        "\n",
        "# Creating a new figure\n",
        "fig, ax1 = plt.subplots()\n",
        "\n",
        "# Creating a line plot for 'Cost_Profit' on the primary y-axis\n",
        "sns.lineplot(data=ratio, x='Year', y='Cost_Profit', color='red', ax=ax1)\n",
        "ax1.set_ylabel('Cost / Profit', color='red')\n",
        "\n",
        "# Creating a bar plot for 'Profit' on the secondary y-axis\n",
        "ax2 = ax1.twinx()\n",
        "sns.lineplot(data=ratio, x='Year', y='Profit', color='blue', ax=ax2)\n",
        "ax2.set_ylabel('Profit', color='blue')\n",
        "\n",
        "plt.title('Cost/Profit Ratio and Profit Over Years')\n",
        "plt.show()\n"
      ]
    },
    {
      "cell_type": "code",
      "execution_count": null,
      "id": "tuCHNjSAqPaA",
      "metadata": {
        "colab": {
          "base_uri": "https://localhost:8080/"
        },
        "id": "tuCHNjSAqPaA",
        "outputId": "ddd305ad-b5f0-461e-a169-95d069f0492b"
      },
      "outputs": [
        {
          "name": "stdout",
          "output_type": "stream",
          "text": [
            "<class 'pandas.core.frame.DataFrame'>\n",
            "RangeIndex: 113036 entries, 0 to 113035\n",
            "Data columns (total 18 columns):\n",
            " #   Column            Non-Null Count   Dtype \n",
            "---  ------            --------------   ----- \n",
            " 0   Date              113036 non-null  object\n",
            " 1   Day               113036 non-null  int64 \n",
            " 2   Month             113036 non-null  object\n",
            " 3   Year              113036 non-null  int64 \n",
            " 4   Customer_Age      113036 non-null  int64 \n",
            " 5   Age_Group         113036 non-null  object\n",
            " 6   Customer_Gender   113036 non-null  object\n",
            " 7   Country           113036 non-null  object\n",
            " 8   State             113036 non-null  object\n",
            " 9   Product_Category  113036 non-null  object\n",
            " 10  Sub_Category      113036 non-null  object\n",
            " 11  Product           113036 non-null  object\n",
            " 12  Order_Quantity    113036 non-null  int64 \n",
            " 13  Unit_Cost         113036 non-null  int64 \n",
            " 14  Unit_Price        113036 non-null  int64 \n",
            " 15  Profit            113036 non-null  int64 \n",
            " 16  Cost              113036 non-null  int64 \n",
            " 17  Revenue           113036 non-null  int64 \n",
            "dtypes: int64(9), object(9)\n",
            "memory usage: 15.5+ MB\n"
          ]
        }
      ],
      "source": [
        "df.info()"
      ]
    },
    {
      "cell_type": "markdown",
      "id": "ZXouDvK0GHdU",
      "metadata": {
        "id": "ZXouDvK0GHdU"
      },
      "source": [
        "🙋🏻‍♂️ **DISCUSSION: Take 1 minute to take a look at the dataset and understand the columns.**\n",
        "\n",
        "Alright, now let's get started on the visualizing practice."
      ]
    },
    {
      "cell_type": "markdown",
      "id": "1d5_SLkgGfja",
      "metadata": {
        "id": "1d5_SLkgGfja"
      },
      "source": [
        "## 1. Overview Profit, Revenue, and Cost"
      ]
    },
    {
      "cell_type": "markdown",
      "id": "b90c1a6e",
      "metadata": {
        "id": "b90c1a6e"
      },
      "source": [
        "### Question 1 (10 pts)"
      ]
    },
    {
      "cell_type": "code",
      "execution_count": null,
      "id": "1WQgYjYhZz94",
      "metadata": {
        "id": "1WQgYjYhZz94"
      },
      "outputs": [],
      "source": [
        "# @markdown What is the common range of the profit? Answer with a histogram. (Use `bins=500` and pay attention to the axes limits.)\n",
        "\n",
        "# @markdown Expected Result"
      ]
    },
    {
      "cell_type": "markdown",
      "id": "YUiap6rHptPm",
      "metadata": {
        "id": "YUiap6rHptPm"
      },
      "source": [
        "Based on the histogram, what can you say about the relationship between the mean, median, and mode of the profit?\n",
        "\n",
        "<ol type='A'>\n",
        "    <li>mode < mean < median</li>\n",
        "    <li>median < mean < mode</li>\n",
        "    <li>mean < mode < median</li>\n",
        "    <li>mode < median < mean</li>\n",
        "</ol>"
      ]
    },
    {
      "cell_type": "markdown",
      "id": "_yT2psAY1g8T",
      "metadata": {
        "id": "_yT2psAY1g8T"
      },
      "source": [
        "Answer: D"
      ]
    },
    {
      "cell_type": "code",
      "execution_count": null,
      "id": "tjzNmvcXqcuL",
      "metadata": {
        "colab": {
          "base_uri": "https://localhost:8080/",
          "height": 466
        },
        "id": "tjzNmvcXqcuL",
        "outputId": "42bf6b89-9276-4e75-d571-c355dedcbae5"
      },
      "outputs": [
        {
          "data": {
            "text/plain": [
              "(0.0, 4000.0)"
            ]
          },
          "execution_count": 5,
          "metadata": {},
          "output_type": "execute_result"
        },
        {
          "data": {
            "image/png": "[encoded data removed]",
            "text/plain": [
              "<Figure size 640x480 with 1 Axes>"
            ]
          },
          "metadata": {},
          "output_type": "display_data"
        }
      ],
      "source": [
        "# YOUR CODE HERE\n",
        "sns.histplot(data=df,x='Profit',bins = 100)\n",
        "plt.xlim(0,4000)"
      ]
    },
    {
      "cell_type": "code",
      "execution_count": null,
      "id": "PAnRUB020wU7",
      "metadata": {
        "colab": {
          "base_uri": "https://localhost:8080/",
          "height": 469
        },
        "id": "PAnRUB020wU7",
        "outputId": "88a3ce3c-d8bc-4cf8-f022-fe4b4097c2cf"
      },
      "outputs": [
        {
          "data": {
            "text/plain": [
              "(0.0, 4000.0)"
            ]
          },
          "execution_count": 6,
          "metadata": {},
          "output_type": "execute_result"
        },
        {
          "data": {
            "image/png": "[encoded data removed]",
            "text/plain": [
              "<Figure size 640x480 with 1 Axes>"
            ]
          },
          "metadata": {},
          "output_type": "display_data"
        }
      ],
      "source": [
        "sns.histplot(data=df,x='Profit',bins = 500)\n",
        "plt.xlim(0,4000)"
      ]
    },
    {
      "cell_type": "code",
      "execution_count": null,
      "id": "1dJIAuRcIsoS",
      "metadata": {
        "cellView": "form",
        "id": "1dJIAuRcIsoS",
        "outputId": "24ea187a-ff4c-4c06-d845-43d4036b3ce2"
      },
      "outputs": [
        {
          "name": "stdout",
          "output_type": "stream",
          "text": [
            "Correct answer is: D\n"
          ]
        }
      ],
      "source": [
        "# @title Run to reveal answer\n",
        "print(\"Correct answer is: D\")"
      ]
    },
    {
      "cell_type": "markdown",
      "id": "41244440",
      "metadata": {
        "id": "41244440"
      },
      "source": [
        "### Question 2 (10 pts)"
      ]
    },
    {
      "cell_type": "code",
      "execution_count": 1,
      "id": "LaixHqvKzvFL",
      "metadata": {
        "id": "LaixHqvKzvFL"
      },
      "outputs": [],
      "source": [
        "# @markdown What is the distribution of the Profit? Answer with a box plot.\n",
        "\n",
        "# @markdown Expected Result"
      ]
    },
    {
      "cell_type": "markdown",
      "id": "3f321b22",
      "metadata": {
        "id": "3f321b22"
      },
      "source": [
        "Which of the following statements about the boxplot is FALSE?\n",
        "\n",
        "<ol type='A'>\n",
        "    <li>The lower whisker is closer to the median than the upper whisker.</li>\n",
        "    <li>The plot shows no outlier.</li>\n",
        "    <li>The box (colored blue) contains half of all data points.</li>\n",
        "    <li>There are no values lower than the lower whisker.</li>\n",
        "</ol>"
      ]
    },
    {
      "cell_type": "markdown",
      "id": "01kccLTq8NXn",
      "metadata": {
        "id": "01kccLTq8NXn"
      },
      "source": [
        "Answer B"
      ]
    },
    {
      "cell_type": "code",
      "execution_count": null,
      "id": "mAtagg_zr5So",
      "metadata": {
        "colab": {
          "base_uri": "https://localhost:8080/",
          "height": 437
        },
        "id": "mAtagg_zr5So",
        "outputId": "dca05c46-a68f-498d-af39-dc76ac663bc4"
      },
      "outputs": [
        {
          "data": {
            "text/plain": [
              "<Axes: xlabel='Profit'>"
            ]
          },
          "execution_count": 9,
          "metadata": {},
          "output_type": "execute_result"
        },
        {
          "data": {
            "image/png": "[encoded data removed]",
            "text/plain": [
              "<Figure size 2000x500 with 1 Axes>"
            ]
          },
          "metadata": {},
          "output_type": "display_data"
        }
      ],
      "source": [
        "# YOUR CODE HERE\n",
        "plt.figure(figsize =(20,5))\n",
        "sns.boxplot(data = df, x ='Profit')"
      ]
    },
    {
      "cell_type": "code",
      "execution_count": null,
      "id": "Xv0midCcI1Ux",
      "metadata": {
        "cellView": "form",
        "id": "Xv0midCcI1Ux",
        "outputId": "600d886b-9826-41ba-8cca-fac6dd3f97b9"
      },
      "outputs": [
        {
          "name": "stdout",
          "output_type": "stream",
          "text": [
            "Correct answer is: B\n"
          ]
        }
      ],
      "source": [
        "# @title Run to reveal answer\n",
        "print(\"Correct answer is: B\")"
      ]
    },
    {
      "cell_type": "markdown",
      "id": "1807f891",
      "metadata": {
        "id": "1807f891"
      },
      "source": [
        "### Question 3 (10 pts)"
      ]
    },
    {
      "cell_type": "code",
      "execution_count": null,
      "id": "DGzyJ7OsyoPu",
      "metadata": {
        "cellView": "form",
        "id": "DGzyJ7OsyoPu"
      },
      "outputs": [],
      "source": [
        "# @markdown Use bar chart to visualize total profit by year.\n",
        "\n",
        "# @markdown Expected Result"
      ]
    },
    {
      "cell_type": "markdown",
      "id": "101f7ecf",
      "metadata": {
        "id": "101f7ecf"
      },
      "source": [
        "For some reason, your boss told you to replace this bar chart with another type of chart that also effectively shows the profit in each year.\n",
        "\n",
        "Which of the following charts is the most reasonable replacement?\n",
        "\n",
        "<ol type='A'>\n",
        "    <li>Line chart</li>\n",
        "    <li>Histogram</li>\n",
        "    <li>Pie chart</li>\n",
        "    <li>Stacked bar chart</li>\n",
        "</ol>"
      ]
    },
    {
      "cell_type": "markdown",
      "id": "QWmcOdmH_GIc",
      "metadata": {
        "id": "QWmcOdmH_GIc"
      },
      "source": [
        "Answer: A (lý do: 2 biến đều là continuous[Biến liên tục])"
      ]
    },
    {
      "cell_type": "code",
      "execution_count": null,
      "id": "Z0Wu83ZRuVff",
      "metadata": {
        "colab": {
          "base_uri": "https://localhost:8080/",
          "height": 482
        },
        "id": "Z0Wu83ZRuVff",
        "outputId": "b92fccba-1a45-4b13-d2a1-89da5504cb67"
      },
      "outputs": [
        {
          "data": {
            "text/plain": [
              "<Axes: xlabel='Year', ylabel='Profit'>"
            ]
          },
          "execution_count": 12,
          "metadata": {},
          "output_type": "execute_result"
        },
        {
          "data": {
            "image/png": "[encoded data removed]",
            "text/plain": [
              "<Figure size 640x480 with 1 Axes>"
            ]
          },
          "metadata": {},
          "output_type": "display_data"
        }
      ],
      "source": [
        "# YOUR CODE HERE\n",
        "plot_data_1=df.groupby(\"Year\")[[\"Profit\"]].sum().reset_index()\n",
        "sns.barplot(data=plot_data_1, x=\"Year\", y=\"Profit\")"
      ]
    },
    {
      "cell_type": "code",
      "execution_count": null,
      "id": "vmZqr6X4I65B",
      "metadata": {
        "id": "vmZqr6X4I65B",
        "outputId": "ad19f53c-35a3-442d-ad83-f58ad34d9857"
      },
      "outputs": [
        {
          "name": "stdout",
          "output_type": "stream",
          "text": [
            "Correct answer is: A\n"
          ]
        }
      ],
      "source": [
        "# @title Run to reveal answer\n",
        "print(\"Correct answer is: A\")"
      ]
    },
    {
      "cell_type": "markdown",
      "id": "1d7a0541",
      "metadata": {
        "id": "1d7a0541"
      },
      "source": [
        "### Question 4 (10 pts)"
      ]
    },
    {
      "cell_type": "code",
      "execution_count": null,
      "id": "tv6TdPgExdzM",
      "metadata": {
        "cellView": "form",
        "id": "tv6TdPgExdzM"
      },
      "outputs": [],
      "source": [
        "# @markdown Use bar chart to visualize the total profit by month.\n",
        "\n",
        "# @markdown Expected Result"
      ]
    },
    {
      "cell_type": "markdown",
      "id": "e13bf8f2",
      "metadata": {
        "id": "e13bf8f2"
      },
      "source": [
        "This data was collected between 2011-01-01 and 2016-07-31. This means that the plot above was biased towards the months of January-July. So now your boss wants you to redraw the plot using only data of the years 2011-2015.\n",
        "\n",
        "How is the new plot different from the old plot?\n",
        "\n",
        "<ol type='A'>\n",
        "    <li>The new plot shows that the profit tends to increase as it gets later in the year.</li>\n",
        "    <li>The new plot no longer shows a significant spike of profit between November and December.</li>\n",
        "    <li>The month with the least amount of profit is the same in both plots.</li>\n",
        "    <li>There is no major differences between the two plots.</li>\n",
        "</ol>"
      ]
    },
    {
      "cell_type": "code",
      "execution_count": null,
      "id": "CQA7O_Liu30i",
      "metadata": {
        "id": "CQA7O_Liu30i",
        "outputId": "7c10ed34-f884-4188-bb5a-144f8caef124"
      },
      "outputs": [
        {
          "data": {
            "text/plain": [
              "<Axes: xlabel='Year', ylabel='Profit'>"
            ]
          },
          "execution_count": 15,
          "metadata": {},
          "output_type": "execute_result"
        },
        {
          "data": {
            "image/png": "[encoded data removed]",
            "text/plain": [
              "<Figure size 640x480 with 1 Axes>"
            ]
          },
          "metadata": {},
          "output_type": "display_data"
        }
      ],
      "source": [
        "# YOUR CODE HERE\n",
        "plot_data_1=df.groupby(\"Year\")[[\"Profit\"]].sum().reset_index()\n",
        "sns.barplot(data=plot_data_1, x=\"Year\", y=\"Profit\")\n",
        "# xài order"
      ]
    },
    {
      "cell_type": "code",
      "execution_count": null,
      "id": "-iJT5TYiJG2u",
      "metadata": {
        "cellView": "form",
        "id": "-iJT5TYiJG2u",
        "outputId": "160d14e9-9063-4908-9e20-985e30d70f31"
      },
      "outputs": [
        {
          "name": "stdout",
          "output_type": "stream",
          "text": [
            "Correct answer is: A\n"
          ]
        }
      ],
      "source": [
        "# @title Run to reveal answer\n",
        "print(\"Correct answer is: A\")"
      ]
    },
    {
      "cell_type": "markdown",
      "id": "d2892a35",
      "metadata": {
        "id": "d2892a35"
      },
      "source": [
        "### Question 5 (10 pts)"
      ]
    },
    {
      "cell_type": "code",
      "execution_count": null,
      "id": "8vueChrmcZtY",
      "metadata": {
        "cellView": "form",
        "id": "8vueChrmcZtY"
      },
      "outputs": [],
      "source": [
        "# @markdown Visualize the Ratio of Profit/Cost by Year.\n",
        "\n",
        "# @markdown Expected Result"
      ]
    },
    {
      "cell_type": "markdown",
      "id": "fecd56f0",
      "metadata": {
        "id": "fecd56f0"
      },
      "source": [
        "Why did the profit-to-cost ratio decrease from 2014 to 2015?\n",
        "\n",
        "<ol type='A'>\n",
        "    <li><code>Profit</code> increases while <code>Cost</code> decreases</li>\n",
        "    <li><code>Profit</code> decreases while <code>Cost</code> increases</li>\n",
        "    <li>Both <code>Profit</code> and <code>Cost</code> increase, but <code>Cost</code> increases by a larger ratio.</li>\n",
        "    <li>Both <code>Profit</code> and <code>Cost</code> decrease, but <code>Profit</code> decreases by a larger ratio.</li>\n",
        "</ol>"
      ]
    },
    {
      "cell_type": "code",
      "execution_count": null,
      "id": "mJm4POnGvnoD",
      "metadata": {
        "id": "mJm4POnGvnoD"
      },
      "outputs": [],
      "source": [
        "# YOUR CODE HERE"
      ]
    },
    {
      "cell_type": "code",
      "execution_count": null,
      "id": "ntHsCn4pJXFk",
      "metadata": {
        "cellView": "form",
        "id": "ntHsCn4pJXFk",
        "outputId": "d989effb-bef4-407a-db17-caaade7d3b0e"
      },
      "outputs": [
        {
          "name": "stdout",
          "output_type": "stream",
          "text": [
            "Correct answer is: C\n"
          ]
        }
      ],
      "source": [
        "# @title Run to reveal answer\n",
        "print(\"Correct answer is: C\")"
      ]
    },
    {
      "cell_type": "markdown",
      "id": "6f869339",
      "metadata": {
        "id": "6f869339"
      },
      "source": [
        "### Question 6 (10 pts)"
      ]
    },
    {
      "cell_type": "code",
      "execution_count": null,
      "id": "T7DqePqRl2b0",
      "metadata": {
        "cellView": "form",
        "id": "T7DqePqRl2b0"
      },
      "outputs": [],
      "source": [
        "# @markdown On the same chart above, add a reference line that represents the average ratio. 🙋🏻‍♂️ **TIPS:** `plt.axhline`\n",
        "\n",
        "# @markdown Expected Result"
      ]
    },
    {
      "cell_type": "code",
      "execution_count": null,
      "id": "1ggDEBwMwMys",
      "metadata": {
        "id": "1ggDEBwMwMys",
        "outputId": "94d424da-b09a-42c8-9e8e-4728d678160d"
      },
      "outputs": [
        {
          "ename": "SyntaxError",
          "evalue": "invalid syntax (3866118633.py, line 1)",
          "output_type": "error",
          "traceback": [
            "\u001b[0;36m  Cell \u001b[0;32mIn[21], line 1\u001b[0;36m\u001b[0m\n\u001b[0;31m    average_ratio = # calculate the average ratio here\u001b[0m\n\u001b[0m                    ^\u001b[0m\n\u001b[0;31mSyntaxError\u001b[0m\u001b[0;31m:\u001b[0m invalid syntax\n"
          ]
        }
      ],
      "source": [
        "average_ratio = # calculate the average ratio here\n",
        "\n",
        "# YOUR PLOT CODE HERE\n",
        "\n",
        "plt.axhline(average_ratio, color='red', linestyle='--')\n",
        "plt.show();"
      ]
    },
    {
      "cell_type": "markdown",
      "id": "6a757e00",
      "metadata": {
        "id": "6a757e00"
      },
      "source": [
        "What is the value of the mean profit-to-cost ratio? Round your answer to 2 decimal places (e.g. `0.43788` --> `0.44`) and enter it into the submit box.\n",
        "\n"
      ]
    },
    {
      "cell_type": "markdown",
      "id": "yrdhVsQl0xou",
      "metadata": {
        "id": "yrdhVsQl0xou"
      },
      "source": [
        "## 2. Analyse by Category"
      ]
    },
    {
      "cell_type": "markdown",
      "id": "3abe5f69",
      "metadata": {
        "id": "3abe5f69"
      },
      "source": [
        "### Question 7 (10 pts)"
      ]
    },
    {
      "cell_type": "code",
      "execution_count": null,
      "id": "B9SdV5fOQl69",
      "metadata": {
        "cellView": "form",
        "id": "B9SdV5fOQl69"
      },
      "outputs": [],
      "source": [
        "# @markdown Plot the number of product sold in each Category. Each product sold is one row of the data.\n",
        "\n",
        "# @markdown Expected Result"
      ]
    },
    {
      "cell_type": "markdown",
      "id": "103ab4bf",
      "metadata": {
        "id": "103ab4bf"
      },
      "source": [
        "The category **Accessories** clearly has more products sold than others, and your boss wants to find how big this category is.\n",
        "\n",
        "What is the ratio of all products sold which belong to this category? Round your answer to 2 decimal places and enter it into the submit box."
      ]
    },
    {
      "cell_type": "code",
      "execution_count": null,
      "id": "biikgJZ_yCZY",
      "metadata": {
        "id": "biikgJZ_yCZY"
      },
      "outputs": [],
      "source": [
        "# YOUR CODE HERE"
      ]
    },
    {
      "cell_type": "markdown",
      "id": "ba354851",
      "metadata": {
        "id": "ba354851"
      },
      "source": [
        "### Question 8 (10 pts)"
      ]
    },
    {
      "cell_type": "code",
      "execution_count": null,
      "id": "ij07SLiy3WiC",
      "metadata": {
        "cellView": "form",
        "id": "ij07SLiy3WiC"
      },
      "outputs": [],
      "source": [
        "# @markdown In the category **Accessory**. What sub-categories have more product sold? Answer with a graph.\n",
        "\n",
        "# @markdown Expected Result"
      ]
    },
    {
      "cell_type": "markdown",
      "id": "859f0fb3",
      "metadata": {
        "id": "859f0fb3"
      },
      "source": [
        "Which of these sub-categories were sold higher-than-average number of times? Select all that apply.\n",
        "\n",
        "<ol type='A'>\n",
        "    <li>Bike Racks</li>\n",
        "    <li>Bike Stands</li>\n",
        "    <li>Bottles and Cages</li>\n",
        "    <li>Cleaners</li>\n",
        "    <li>Fenders</li>\n",
        "    <li>Helmets</li>\n",
        "    <li>Hydration Packs</li>\n",
        "    <li>Tires and Tubes</li>\n",
        "</ol>"
      ]
    },
    {
      "cell_type": "code",
      "execution_count": null,
      "id": "1DzE0sPxyrkM",
      "metadata": {
        "id": "1DzE0sPxyrkM"
      },
      "outputs": [],
      "source": [
        "# YOUR CODE HERE"
      ]
    },
    {
      "cell_type": "code",
      "execution_count": null,
      "id": "EZOoD5bTJsh8",
      "metadata": {
        "cellView": "form",
        "id": "EZOoD5bTJsh8"
      },
      "outputs": [],
      "source": [
        "# @title Run to reveal answer\n",
        "print(\"Correct answer is: C,F,H\")"
      ]
    },
    {
      "cell_type": "markdown",
      "id": "2a15de3e",
      "metadata": {
        "id": "2a15de3e"
      },
      "source": [
        "### Question 9 (10 pts)"
      ]
    },
    {
      "cell_type": "code",
      "execution_count": null,
      "id": "Q5fp5lBUL-v_",
      "metadata": {
        "cellView": "form",
        "id": "Q5fp5lBUL-v_"
      },
      "outputs": [],
      "source": [
        "# @markdown Between sub-categories in **Accessories**, which one brings the most total profit to the company\n",
        "\n",
        "# @markdown Expected Result"
      ]
    },
    {
      "cell_type": "markdown",
      "id": "e086a556",
      "metadata": {
        "id": "e086a556"
      },
      "source": [
        "Which of these sub-categories provide higher-than-average amount of profit? Select all that apply.\n",
        "\n",
        "<ol type='A'>\n",
        "    <li>Bike Racks</li>\n",
        "    <li>Bike Stands</li>\n",
        "    <li>Bottles and Cages</li>\n",
        "    <li>Cleaners</li>\n",
        "    <li>Fenders</li>\n",
        "    <li>Helmets</li>\n",
        "    <li>Hydration Packs</li>\n",
        "    <li>Tires and Tubes</li>\n",
        "</ol>"
      ]
    },
    {
      "cell_type": "code",
      "execution_count": null,
      "id": "yYE9ZFc6zHlK",
      "metadata": {
        "id": "yYE9ZFc6zHlK"
      },
      "outputs": [],
      "source": [
        "# YOUR CODE HERE"
      ]
    },
    {
      "cell_type": "code",
      "execution_count": null,
      "id": "Po9lmTvyJ9p4",
      "metadata": {
        "cellView": "form",
        "id": "Po9lmTvyJ9p4"
      },
      "outputs": [],
      "source": [
        "# @title Run to reveal answer\n",
        "print(\"Correct answer is: F, H\")"
      ]
    },
    {
      "cell_type": "markdown",
      "id": "ba3e37ea",
      "metadata": {
        "id": "ba3e37ea"
      },
      "source": [
        "### Question 10 (10 pts)"
      ]
    },
    {
      "cell_type": "code",
      "execution_count": null,
      "id": "69ByZJWMMWIb",
      "metadata": {
        "cellView": "form",
        "id": "69ByZJWMMWIb"
      },
      "outputs": [],
      "source": [
        "# @markdown Put the graphs in Q8 and Q9 next to each other. What can you tell from them?\n",
        "\n",
        "# @markdown Expected Result"
      ]
    },
    {
      "cell_type": "markdown",
      "id": "dc244347",
      "metadata": {
        "id": "dc244347"
      },
      "source": [
        "Select the sub-categories of **Accessories** that have higher-than-average *profit per products sold*.\n",
        "\n",
        "<ol type='A'>\n",
        "    <li>Bike Racks</li>\n",
        "    <li>Bike Stands</li>\n",
        "    <li>Bottles and Cages</li>\n",
        "    <li>Cleaners</li>\n",
        "    <li>Fenders</li>\n",
        "    <li>Helmets</li>\n",
        "    <li>Hydration Packs</li>\n",
        "    <li>Tires and Tubes</li>\n",
        "</ol>"
      ]
    },
    {
      "cell_type": "code",
      "execution_count": null,
      "id": "aSre5yNOzl3M",
      "metadata": {
        "id": "aSre5yNOzl3M"
      },
      "outputs": [],
      "source": [
        "# YOUR CODE HERE"
      ]
    },
    {
      "cell_type": "code",
      "execution_count": null,
      "id": "lp3dR157KGpn",
      "metadata": {
        "cellView": "form",
        "id": "lp3dR157KGpn"
      },
      "outputs": [],
      "source": [
        "# @title Run to reveal answer\n",
        "print(\"Correct answer is: A, B, F, G\")"
      ]
    },
    {
      "cell_type": "markdown",
      "id": "ELgMXIYRvPeA",
      "metadata": {
        "id": "ELgMXIYRvPeA"
      },
      "source": [
        "## 3. *(Extra)* Analyse by Age"
      ]
    },
    {
      "cell_type": "markdown",
      "id": "jRZtNf-00ftC",
      "metadata": {
        "id": "jRZtNf-00ftC"
      },
      "source": [
        "### Question 11"
      ]
    },
    {
      "cell_type": "code",
      "execution_count": null,
      "id": "OvgfqQ6wvhZ_",
      "metadata": {
        "cellView": "form",
        "id": "OvgfqQ6wvhZ_"
      },
      "outputs": [],
      "source": [
        "# @markdown What is the distribution of the Customer Age? Answer with a histogram with figure size of `(8, 8)`.\n",
        "\n",
        "# @markdown Expected Result"
      ]
    },
    {
      "cell_type": "code",
      "execution_count": null,
      "id": "jAa5jJxkz_EK",
      "metadata": {
        "id": "jAa5jJxkz_EK"
      },
      "outputs": [],
      "source": [
        "# YOUR CODE HERE"
      ]
    },
    {
      "cell_type": "markdown",
      "id": "IqOg3PjS06Db",
      "metadata": {
        "id": "IqOg3PjS06Db"
      },
      "source": [
        "### Question 12"
      ]
    },
    {
      "cell_type": "code",
      "execution_count": null,
      "id": "b9LTGG8lv917",
      "metadata": {
        "cellView": "form",
        "id": "b9LTGG8lv917"
      },
      "outputs": [],
      "source": [
        "# @markdown Number of products bought by different Age Group in different Category.\n",
        "\n",
        "# @markdown 🙋🏻‍♂️ **Tip**: In the seaborn syntax, you can use `hue_order` which is the same with `order` but it will sort the bars in each category (here, it is the AgeGroup).\n",
        "\n",
        "# @markdown Expected Result"
      ]
    },
    {
      "cell_type": "code",
      "execution_count": null,
      "id": "Z8EN06240cSN",
      "metadata": {
        "id": "Z8EN06240cSN"
      },
      "outputs": [],
      "source": [
        "# YOUR CODE HERE"
      ]
    },
    {
      "cell_type": "markdown",
      "id": "S5HNYjv93BPo",
      "metadata": {
        "id": "S5HNYjv93BPo"
      },
      "source": [
        "### Question 13"
      ]
    },
    {
      "cell_type": "code",
      "execution_count": null,
      "id": "fzjrt6YAI1mf",
      "metadata": {
        "cellView": "form",
        "id": "fzjrt6YAI1mf"
      },
      "outputs": [],
      "source": [
        "# @markdown Within the category Accessories, number of products bought by different Age Group in different sub-category.\n",
        "\n",
        "# @markdown Expected Result"
      ]
    },
    {
      "cell_type": "code",
      "execution_count": null,
      "id": "Dm9hMLeM0o_s",
      "metadata": {
        "id": "Dm9hMLeM0o_s"
      },
      "outputs": [],
      "source": [
        "# YOUR CODE HERE"
      ]
    },
    {
      "cell_type": "markdown",
      "id": "YAmTZc4m3MiL",
      "metadata": {
        "id": "YAmTZc4m3MiL"
      },
      "source": [
        "### Question 14"
      ]
    },
    {
      "cell_type": "code",
      "execution_count": null,
      "id": "kpZ46qtwwU3k",
      "metadata": {
        "cellView": "form",
        "id": "kpZ46qtwwU3k"
      },
      "outputs": [],
      "source": [
        "# @markdown Plot revenue by AgeGroup\n",
        "\n",
        "# @markdown In the 1st subplot: plot the Total Revenue by Age Group.\n",
        "\n",
        "# @markdown In the 2nd subplot: plot the Average Revenue by Age Group.\n",
        "\n",
        "# @markdown Expected Result"
      ]
    },
    {
      "cell_type": "code",
      "execution_count": null,
      "id": "W7nWIqxU05NM",
      "metadata": {
        "id": "W7nWIqxU05NM"
      },
      "outputs": [],
      "source": [
        "# YOUR CODE HERE"
      ]
    },
    {
      "cell_type": "markdown",
      "id": "uFwtHlqUxMmp",
      "metadata": {
        "id": "uFwtHlqUxMmp"
      },
      "source": [
        "🙋🏻‍♂️ **DISCUSSION:** Compare the two charts, what can you tell?"
      ]
    }
  ],
  "metadata": {
    "colab": {
      "collapsed_sections": [
        "d2892a35",
        "6f869339",
        "yrdhVsQl0xou",
        "3abe5f69",
        "ba354851",
        "2a15de3e",
        "ba3e37ea",
        "ELgMXIYRvPeA",
        "jRZtNf-00ftC",
        "IqOg3PjS06Db",
        "S5HNYjv93BPo",
        "YAmTZc4m3MiL"
      ],
      "provenance": [],
      "include_colab_link": true
    },
    "kernelspec": {
      "display_name": "trongthuc",
      "language": "python",
      "name": "python3"
    },
    "language_info": {
      "codemirror_mode": {
        "name": "ipython",
        "version": 3
      },
      "file_extension": ".py",
      "mimetype": "text/x-python",
      "name": "python",
      "nbconvert_exporter": "python",
      "pygments_lexer": "ipython3",
      "version": "3.10.16"
    }
  },
  "nbformat": 4,
  "nbformat_minor": 5
}